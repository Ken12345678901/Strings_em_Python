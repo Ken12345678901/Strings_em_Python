# Strings em python
**Thiago Magnani, Pietro Cardoso, Ken Watanabe, Emily Cavalcante, Murilo Elias 2°D**
___

# O que é uma string
String é um tipo de dado que tem como valor uma sequência de caracteres alfanuméricos. Uma string é identificada pela presença de aspas duplas (") ou simples ('), marcando o início e o fim de seu conteúdo.

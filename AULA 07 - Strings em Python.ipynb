{
  "nbformat": 4,
  "nbformat_minor": 0,
  "metadata": {
    "colab": {
      "provenance": [],
      "include_colab_link":true
    },
    "kernelspec": {
      "name": "python3",
      "display_name": "Python 3"
    },
    "language_info":{
      "name":"python"
    }
  },
  "cells":[
    {
      "cell_type": "markdown",
      "source": [
      "# **STRINGS EM PYTHON**\n",
      "###### Thiago Bruno Magnani, Pietro Cardoso de Freitas, Ken Watanabe, Emilly de Jesus Cavalcante e Murilo Elias Pereira\n",
      "---\n",
      "<img alt=\"Strings em Python\" src=\"https://github.com/Ken12345678901/Strings_em_Python/blob/main/img01.jpeg?raw=1\" width=\"850px\">"
      ],
      "metadata": {
        "id": "fLWTzgjTug_X"
      }
    },
    {
    "cell_type": "markdown",
      "source": [
        "## **TÓPICOS DA AULA:**\n",
        "- DEFINIÇÃO DE STRINGS\n",
        "- STRINGS E LISTAS\n",
        "- PERCORRENDO CARACTERES COM FOR\n",
        "- USANDO OPERADORES COM STRINGS\n",
        "- EXPLORANDO FUNÇÕES\n",
        "- SLICING EM STRINGS\n"
      ],
      "metadata": {
        "id": "fLWTzgjTug_X"
      }
    },
    {
      "cell_type": "markdown",
      "source": [
        "\n",
        "## **1. O QUE SÃO `STRINGS`:**\n",
        "`String` é um tipo de dado que contém uma série de caracteres alfanuméricos, ou seja, pode conter letras, números e símbolos. Assim, strings podem representar diversos tipos de informações, como nomes, e-mails, locais, títulos de livros e muitos outros! \n Para definir uma variável com valor de string, marcamos o início e o fim de seu conteúdo com aspas simples ou duplas",
        "###\n"
      ], 
      "metadata": {
      }
    },
    {
      "cell_type": "code",
      "source": [
        "nome = 'Pietro'\n",
        "nome2 = \"Ken\""
      ],
      "execution_count": null,
      "outputs": [],
      "metadata": {
        "id": "fLWTzgjTug_X"
      }
    },
    {
      "cell_type": "markdown",
      "source": [
        "###\n",
        "##### **IMPORTANTE:**",
        " quando, dentro de uma string, for necessário usar aspas, é recomendado intercalar aspas simples e duplas.\n"
      ],
      "metadata": {
      }
    },
    {
      "cell_type": "code",
      "source": [
        "frase_motivacional = '\"Só se vê bem com o coração, o essencial é invisível aos olhos\" - O pequeno príncipe'\n"
      ],
      "execution_count": null,
      "outputs": [],
      "metadata": {
        "id": "fLWTzgjTug_X"
      }
    },
    {
      "cell_type": "markdown",
      "source": [
        "###\n",
        "Outra alternativa seria 'escapar', ou seja, indicar com a barra invertida que as aspas que a sucedem devem ser interpretadas como texto (e não como fechamento de conteúdo)."
      ],
      "metadata": {
      }
    },
    {
      "cell_type": "code",
      "source": [
        "frase2 = 'Hoje comecei a ler \\'Buracos\\''"
      ],
      "execution_count": null,
      "outputs": [],
      "metadata": {
        "id": "fLWTzgjTug_X"
      }
    },
    {
      "cell_type": "markdown",
      "source": [
        "###\n\n",
        "## **2. `STRINGS` E LISTAS:**\n",
        "`Strings` e listas são estruturas compostas por sequências de dados, cuja ordem é relevante para os processos que as envolvem. A principal distinção entre elas é o fato do conteúdo das strings ser constituído exclusivamente por texto, enquanto as listas podem ser compostas por qualquer tipo de dado\n",
        " |  |STRINGS | LISTAS |\n",
        "| --------------- |-------------------------------------------------- | --------------------------------------- |\n",
        "| CONTEÚDO | Texto | Qualquer tipo de dado |\n",
        "| MUTABILIDADE | Impossível de alterar diretamente um caracter | Podemos alterar o valor de um caracter diretamente |\n",
        "| EXEMPLO | *texto*=\"baiacu\" |*lista*=[10, 'cachorro'] |\n",
        "| ACESSO POR ÍNDICE| Possível (EX: texto[0]=\"b\" - acesso por letra) | Possível (EX: lista[0]=10) |\n"
      ], 
      "metadata": {
      }
    },
    {
      "cell_type": "markdown",
      "source": [
        "\n",
        "<table>\n<tr>\n<td width=550px><img alt=\"Conversão de strings em listas e de listas em strings\" src=\"https://github.com/Ken12345678901/Strings_em_Python/blob/main/img02.jpeg?raw=1\" width=\"520px\"></td>\n<td><p style=\"text-align:justify\">É importante ressaltar que as strings e as listas são elementos <b>mutuamente conversíveis</b>, ou seja, é possível converter uma string em texto, e vice-versa. Observe os exemplos a seguir:</p></td>\n</tr>\n</table><br>",
        "<h4><b>EXEMPLO 01:</b></h4>"
      ],
      "metadata": {
      }
    },
    {
      "cell_type": "code",
      "source": [
        "frase = 'Humberto é o melhor professor'\n",
        "palavras = frase.split()\n",
        "print(palavras)"
      ],
      "execution_count": null,
      "outputs": [],
      "metadata": {
        "id": "fLWTzgjTug_X"
      }
    },
    {
        "cell_type": "markdown",
        "source": [
          "###\n",
          "O comando **split()**, em sua forma padrão, divide a string usando como **separador** os espaços brancos. Assim, a string 'frase' se torna uma lista cujos elementos são as palavras.\n",
          "###\n",
          "**EXEMPLO 02:**\n"
        ],
        "metadata": {
        }
    },
    {
      "cell_type": "code",
      "source": [
        "lista = ['Humberto', 'é', 'o', 'melhor', 'professor']\n",
        "frase = ' '.join(lista)\n",
        "print(frase)"
      ],
      "execution_count": null,
      "outputs": [],
      "metadata": {
        "id": "fLWTzgjTug_X"
      }
    },
    {
        "cell_type": "markdown",
        "source": [
          "###\n",
          "O comando **join()** une os elementos da lista (todos na forma de texto), deixando entre eles um espaço em branco, o **separador**"
        ],
        "metadata": {
        }
    },
    {
      "cell_type": "markdown",
      "source": [
        "###\n\n",
        "## **3. ITERAÇÃO EM `STRINGS`:**\n",
        "<div text-align:\"justify\"><table><tr><td width=550px><img alt=\"Strings em Python\" src=\"https://github.com/Ken12345678901/Strings_em_Python/blob/main/img03.jpeg?raw=1\" width=\"520px\"></td><td><p style=\"text-align:justify\"><b>Iteração</b> é um processo que permite acessar cada caractere de uma string de maneira <b>individual</b>. Geralmente, a iteração utiliza o loop 'for' e, após cada uma de suas repetições, acessa-se o caracter de índice posterior ao que foi acessado na repetição atual. A iteração pode ser realizadade duas maneiras diferentes: </p></td></tr></table><br></div>",
        "<b>EXEMPLO 01:</b><br>"
      ],
      "metadata": {
      }
    },
    {
      "cell_type": "code",
      "source": [
        "exemplo01='O Humberto é legal'\nfor i in range(len(exemplo01)):\n  print(exemplo01[i])"
      ],
      "execution_count": null,
      "outputs": [],
      "metadata": {
        "id": "fLWTzgjTug_X"
      }
    },
    {
      "cell_type": "markdown",
      "source": [
        "###\n",
        "Nesse exemplo, usamos o laço for junto com a função range(len(exemplo01)). Isso significa que o loop vai percorrer todos os índices da string exemplo01, um por um.\nA cada repetição do for, acessamos um caractere da string usando seu índice: exemplo01[i]. Como i começa em 0 e vai até o último índice da string, conseguimos ver ou trabalhar com cada letra individualmente, na ordem em que aparecem. ####\n**EXEMPLO 02:**"
      ],
      "metadata": {
      }
    },
    {
      "cell_type": "code",
      "source": [
        "exemplo02='O Humberto é legal'\nfor elemento in exemplo02:\n  print(elemento)"
      ],
      "execution_count": null,
      "outputs": [],
      "metadata": {
        "id": "fLWTzgjTug_X"
      }
    },
    {
      "cell_type": "markdown",
      "source": [
        "###\n",
        "Nesse segundo exemplo, usamos o laço for para acessar diretamente cada elemento da lista exemplo02. Isso quer dizer que, a cada volta do laço, 'elemento' assume o valor da próxima letra da string — sem precisar usar índices manualmente. É uma forma mais simples e legível de percorrer todos os caracteres de uma string."
      ],
      "metadata": {
      }
    },
    {
      "cell_type": "markdown",
      "source": [
        "###\n\n",
        "## **4. USANDO OPERADORES COM `STRINGS`:**\n",
        "Diferentemente de valores numéricos (int e float), as strings, mesmo que possuam números em seu conteúdo, não podem ser utilizadas em cálculos. Entretanto, dois símbolos aritméticos: + e * podem manipular as strings, e desempenham, respectivamente, as funções de **concatenação** e **repetição**.",
        "###\n",
        "####**CONCATENAÇÃO:**\n",
        "- é a união de duas ou mais strings em uma única string, cujo conteúdo é composto pelo texto das strings concatenadas, na ordem em que foram concatenadas. Em Python é efetuada com o símbolo + **EXEMPLO:**"
      ],
      "metadata": {
      }
    },
    {
      "cell_type": "code",
      "source": [
        "texto01 = 'Etec Rosa Perrone'\ntexto02 = 'é a melhor escola de Itatiba'\nprint(texto01+' '+texto02)"
      ],
      "execution_count": null,
      "outputs": [],
      "metadata": {
        "id": "fLWTzgjTug_X"
      }
    },
    {
      "cell_type": "markdown",
      "source": [
        "###\n",
        "####**REPETIÇÃO:**\n",
        "- é o processo de replicar o conteúdo de uma string em uma determinada quantia de vezes, juntando-os em uma outra string. Em Python é efetuada com o símbolo * **EXEMPLO:**"
      ],
      "metadata": {
      }
    },
    {
      "cell_type": "code",
      "source": [
        "texto01 = 'we will, '\nprint(texto01*2+'rock you!')"
      ],
      "execution_count": null,
      "outputs": [],
      "metadata": {
        "id": "fLWTzgjTug_X"
      }
    },
    {
      "cell_type": "markdown",
      "source": [
        "###\n\n",
        "## **5. EXPLORANDO FUNÇÕES COM `STRINGS`:**\n",
        "\n**Funções** são comandos pré-definidos na linguagem python, que permitem manipular estruturas de dados, inclusive as strings\n",
        " | NOME DA FUNÇÃO | PAPEL |\n",
        "| ------------ | ---------------------------------------------------- |\n",
        "| split(x) | Dividir a string em uma lista de palavras ou caracteres, separando-as a cada aparição de **x**, o separador |\n",
        "| x.join() | Junta os elementos de uma lista na formação de uma string nova, em que os elementos estão separados por **x**, chamado de separador|\n",
        "| lower() | Deixa todas as letras em uma string em minúsculo |\n",
        "| upper() | Deixa todas as letras em uma string em maiúsculo |\n",
        "| title() | Deixa todas as letras iniciais de cada palavra da string em maiúsculo |\n",
        "| capitalize() | Deixa a letras inicial da primeira palavra da string em maiúsculo |\n",
        "| count(x) | Conta quantas vezes o caracter **x** aparece na string |\n",
        "| startswith(x) | Verifica se uma string começa com uma sequência de caracteres **x**, retornando True, se começar, e False, se não começar |\n",
        "| endswith(x) | Verifica se uma string termina com uma sequência de caracteres **x**, retornando True, se terminar, e False, se não terminar |\n",
        "| replace(x, y) | Substituí um trecho **x** de uma string por um trecho **y** de caracteres |\n",
        "| strip() | Remove espaços em branco do início e do fim da string |\n"
      ],
      "metadata": {
      }
    },
    {
      "cell_type": "markdown",
      "source": [
        "###\n\n",
        "## **6. SLICING EM `STRINGS`:**\n",
        "\n**Slicing** é uma técnica de manipulação de strings que consiste em selecionar e extrair uma subseção de uma string pré-existente. A estrutura básica do slicing é: `STRING [x:y:z]`, sendo os valores no interior dos colchetes os **parâmetros**, ou seja, variáveis importantes para a execução dessa função.\n",
        "|PARÂMETRO| PAPEL | DEFINIÇÃO |\n",
        "| ----------- | --------------------|----------------------------------- |\n",
        "| x | valor inicial | É o índice do primeiro elemento da string a ser selecionado (inclusivo) |\n",
        "| y | valor final | É o índice do último elemento da string a ser selecionado (exclusivo) |\n",
        "| z | intervalo | É o intervalo entre os índices da string. Pode ser um positivo (incremento) ou negativo (decremento)|"
      ],
      "metadata": {
      }
    }
  ]
}

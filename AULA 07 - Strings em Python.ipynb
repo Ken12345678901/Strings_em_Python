{
  "nbformat": 4,
  "nbformat_minor": 0,
  "metadata": {
    "colab": {
      "provenance": [],
      "include_colab_link":true
    },
    "kernelspec": {
      "name": "python3",
      "display_name": "Python 3"
    },
    "language_info":{
      "name":"python"
    }
  },
  "cells":[
      {
        "cell_type": "markdown",
        "source": [
          "# **STRINGS EM PYTHON**\n",
          "###### Thiago Bruno Magnani, Pietro Cardoso de Freitas, Ken Watanabe e Emilly de Jesus Cavalcante\n",
          "---"
        ],
        "metadata": {
          "id": "fLWTzgjTug_X"
        }
      },
      {
        "cell_type": "markdown",
        "source": [
          "## **TÓPICOS DA AULA:**\n",
          "- DEFINIÇÃO DE STRINGS\n",
          "- STRINGS E LISTAS\n",
          "- PERCORRENDO CARACTERES COM FOR\n",
          "- USANDO OPERADORES COM STRINGS\n",
          "- EXPLORANDO FUNÇÕES\n",
          "- SLICING EM STRINGS\n"
        ],
        "metadata": {
          "id": "fLWTzgjTug_X"
        }
      },
      {
        "cell_type": "markdown",
        "source": [
          "## **1. O QUE SÃO STRINGS:**\n",
          "String é um tipo de dado que contém uma série de caracteres alfanuméricos, ou seja, pode conter letras, números e símbolos. Para definir uma variável com valor de string, marcamos o início e o fim de seu conteúdo com aspas simples ou duplas\n",
          "##### EXEMPLO:\n"
        ],
        
        "metadata": {
        }
      },
      {
        "cell_type": "code",
        "source": [
          "nome = 'Pietro'\n",
          "nome2 = \"Ken\""
        ],
        "execution_count": null,
        "outputs": [],
        "metadata": {
          "id": "fLWTzgjTug_X"
        }
      },
      {
        "cell_type": "markdown",
        "source": [
          "##### **IMPORTANTE: **\n",
          "quando, dentro de uma string, for necessário usar aspas, é recomendado intercalar aspas simples e duplas.",
          "##### EXEMPLO:\n"
        ],
        
        "metadata": {
        }
      },
      {
        "cell_type": "code",
        "source": [
          "frase_motivacional = '\"Só se vê bem com o coração, o essencial é invisível aos olhos\" - O pequeno príncipe'\n",
        ],
        "execution_count": null,
        "outputs": [],
        "metadata": {
          "id": "fLWTzgjTug_X"
        }
      }
      {
        "cell_type": "markdown",
        "source": [
          "##### **IMPORTANTE: **\n",
          "Outra alternativa seria 'escapar', ou seja, indicar com a barra invertida que as aspas que a sucedem devem ser interpretadas como texto (e não como fechamento de conteúdo).",
          "##### EXEMPLO:\n"
        ],
        
        "metadata": {
        }
      },
      {
        "cell_type": "code",
        "source": [
          "frase2 = 'Hoje comecei a ler \'Buracos\' de Louis Sachar'\n",
        ],
        "execution_count": null,
        "outputs": [],
        "metadata": {
          "id": "fLWTzgjTug_X"
        }
      }
  ]
}

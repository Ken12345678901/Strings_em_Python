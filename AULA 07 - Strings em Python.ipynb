{
  "nbformat": 4,
  "nbformat_minor": 0,
  "metadata": {
    "colab": {
      "provenance": [],
      "include_colab_link":true
    },
    "kernelspec": {
      "name": "python3",
      "display_name": "Python 3"
    },
    "language_info":{
      "name":"python"
    }
  },
  "cells":[
      {
        "cell_type": "markdown",
        "source": [
          "<h1 id='titulo'> STRINGS EM PYTHON </h1>",
          "<h5>Thiago Bruno Magnani, Pietro Cardoso de Freitas, Ken Watanabe e Emilly de Jesus Cavalcante</h5>",
          "<br>",
          "<hr>",
          "<br>",
          "<h3>TÓPICOS DA AULA: </h3>",
          "<br>",
          "<a href='definicao'>1. O QUE SÃO STRINGS?</a>",
          "<br>",
          "<a href='listas'>2. STRINGS E LISTAS: </a>",
          "<br>",
          "<a href='for'>3. PERCORRENDO CARACTERES COM FOR: </a>",
          "<br>",
          "<a href='operadores'>4. USANDO OPERADORES COM STRINGS: </a>",
          "<br>",
          "<a href='funcoes'>5. EXPLORANDO FUNÇÕES: </a>",
          "<br>",
          "<a href='slicing'>6. SLICING EM STRINGS: </a>"
        ],
        "metadata": {
          "id": "fLWTzgjTug_X"
        }
      }
  ]
}

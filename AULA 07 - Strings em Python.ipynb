{
  "nbformat": 4,
  "nbformat_minor": 0,
  "metadata": {
    "colab": {
      "provenance": [],
      "include_colab_link":true
    },
    "kernelspec": {
      "name": "python3",
      "display_name": "Python 3"
    },
    "language_info":{
      "name":"python"
    }
  },
  "cells":[
    {
      "cell_type": "markdown",
      "source": [
      "# **STRINGS EM PYTHON**\n",
      "###### Thiago Bruno Magnani, Pietro Cardoso de Freitas, Ken Watanabe e Emilly de Jesus Cavalcante\n",
      "---"
      ],
      "metadata": {
        "id": "fLWTzgjTug_X"
      }
    },
    {
    "cell_type": "markdown",
      "source": [
        "## **TÓPICOS DA AULA:**\n",
        "- DEFINIÇÃO DE STRINGS\n",
        "- STRINGS E LISTAS\n",
        "- PERCORRENDO CARACTERES COM FOR\n",
        "- USANDO OPERADORES COM STRINGS\n",
        "- EXPLORANDO FUNÇÕES\n",
        "- SLICING EM STRINGS\n"
      ],
      "metadata": {
        "id": "fLWTzgjTug_X"
      }
    },
    {
      "cell_type": "markdown",
      "source": [
        "## **1. O QUE SÃO `STRINGS`:**\n",
        "`String` é um tipo de dado que contém uma série de caracteres alfanuméricos, ou seja, pode conter letras, números e símbolos. Assim, strings podem representar diversos tipos de informações, como nomes, e-mails, locais, títulos de livros e muitos outros! Para definir uma variável com valor de string, marcamos o início e o fim de seu conteúdo com aspas simples ou duplas\n"
      ], 
      "metadata": {
      }
    },
    {
      "cell_type": "code",
      "source": [
        "nome = 'Pietro'\n",
        "nome2 = \"Ken\""
      ],
      "execution_count": null,
      "outputs": [],
      "metadata": {
        "id": "fLWTzgjTug_X"
      }
    },
    {
      "cell_type": "markdown",
      "source": [
        "\n \n##### **IMPORTANTE:**",
        " quando, dentro de uma string, for necessário usar aspas, é recomendado intercalar aspas simples e duplas.\n"
      ],
      "metadata": {
      }
    },
    {
      "cell_type": "code",
      "source": [
        "frase_motivacional = '\"Só se vê bem com o coração, o essencial é invisível aos olhos\" - O pequeno príncipe'\n"
      ],
      "execution_count": null,
      "outputs": [],
      "metadata": {
        "id": "fLWTzgjTug_X"
      }
    },
    {
      "cell_type": "markdown",
      "source": [
        "\n \nOutra alternativa seria 'escapar', ou seja, indicar com a barra invertida que as aspas que a sucedem devem ser interpretadas como texto (e não como fechamento de conteúdo)."
      ],
      "metadata": {
      }
    },
    {
      "cell_type": "code",
      "source": [
        "frase2 = 'Hoje comecei a ler \\'Buracos\\''"
      ],
      "execution_count": null,
      "outputs": [],
      "metadata": {
        "id": "fLWTzgjTug_X"
      }
    },
    {
      "cell_type": "markdown",
      "source": [
        "## **2. `STRINGS` E LISTAS:**\n",
        "`Strings` e listas são estruturas compostas por sequências de dados, cuja ordem é relevante para os processos que as envolvem. A principal distinção entre elas é o fato do conteúdo das strings ser constituído exclusivamente por texto, enquanto as listas podem ser compostas por qualquer tipo de dado\n",
        " |  |STRINGS | LISTAS |\n",
        "| --------------- |-------------------------------------------------- | --------------------------------------- |\n",
        "| CONTEÚDO | Texto | Qualquer tipo de dado |\n",
        "| MUTABILIDADE | Impossível de alterar diretamente um caracter | Podemos alterar o valor de um caracter diretamente |\n",
        "| EXEMPLO | *texto*=\"baiacu\" |*lista*=[10, 'cachorro'] |\n",
        "| ACESSO POR ÍNDICE| Possível (EX: texto[0]=\"b\" - acesso por letra) | Possível (EX: lista[0]=10) |\n"
      ], 
      "metadata": {
      }
    },
    {
      "cell_type": "markdown",
      "source": [
        "\nÉ importante ressaltar que as strings e as listas são elementos **mutuamente conversíveis**, ou seja, é possível converter uma string em texto, e vice-versa. Observe os exemplos a seguir:\n"
      ],
      "metadata": {
      }
    },
    {
      "cell_type": "code",
      "source": [
        "frase = 'Humberto é o melhor professor'\n",
        "palavras = frase.split()\n",
        "print(palavras)  # ['Humberto', 'é', 'o', 'melhor', 'professor']'\n"
      ],
      "execution_count": null,
      "outputs": [],
      "metadata": {
        "id": "fLWTzgjTug_X"
      },
      {
        "cell_type": "markdown",
        "source": [
          "\nO comando split() divide a string usando como separador o conteúdo entre parenteses. Entretanto, como não há nada entre os parenteses, a variável frase é dividida pelos espaços em branco (forma padrão do comando)\n"
        ],
        "metadata": {
        }
      }
    }
  ]
}

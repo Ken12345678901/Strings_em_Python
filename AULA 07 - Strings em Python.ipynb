{
  "nbformat": 4,
  "nbformat_minor": 0,
  "metadata": {
    "colab": {
      "provenance": [],
      "include_colab_link":true
    },
    "kernelspec": {
      "name": "python3",
      "display_name": "Python 3"
    },
    "language_info":{
      "name":"python"
    }
  },
  "cells":[
    {
      "cell_type": "markdown",
      "source": [
      "# **STRINGS EM PYTHON**\n",
      "###### Thiago Bruno Magnani, Pietro Cardoso de Freitas, Ken Watanabe e Emilly de Jesus Cavalcante\n",
      "---"
      ],
      "metadata": {
        "id": "fLWTzgjTug_X"
      }
    },
    {
    "cell_type": "markdown",
      "source": [
        "## **TÓPICOS DA AULA:**\n",
        "- DEFINIÇÃO DE STRINGS\n",
        "- STRINGS E LISTAS\n",
        "- PERCORRENDO CARACTERES COM FOR\n",
        "- USANDO OPERADORES COM STRINGS\n",
        "- EXPLORANDO FUNÇÕES\n",
        "- SLICING EM STRINGS\n"
      ],
      "metadata": {
        "id": "fLWTzgjTug_X"
      }
    },
    {
      "cell_type": "markdown",
      "source": [
        "\n",
        "## **1. O QUE SÃO `STRINGS`:**\n",
        "`String` é um tipo de dado que contém uma série de caracteres alfanuméricos, ou seja, pode conter letras, números e símbolos. Assim, strings podem representar diversos tipos de informações, como nomes, e-mails, locais, títulos de livros e muitos outros! \n Para definir uma variável com valor de string, marcamos o início e o fim de seu conteúdo com aspas simples ou duplas",
        "\n\n"
      ], 
      "metadata": {
      }
    },
    {
      "cell_type": "code",
      "source": [
        "nome = 'Pietro'\n",
        "nome2 = \"Ken\""
      ],
      "execution_count": null,
      "outputs": [],
      "metadata": {
        "id": "fLWTzgjTug_X"
      }
    },
    {
      "cell_type": "markdown",
      "source": [
        "\n",
        "\n",
        "\n",
        "##### **IMPORTANTE:**",
        " quando, dentro de uma string, for necessário usar aspas, é recomendado intercalar aspas simples e duplas.\n"
      ],
      "metadata": {
      }
    },
    {
      "cell_type": "code",
      "source": [
        "frase_motivacional = '\"Só se vê bem com o coração, o essencial é invisível aos olhos\" - O pequeno príncipe'\n"
      ],
      "execution_count": null,
      "outputs": [],
      "metadata": {
        "id": "fLWTzgjTug_X"
      }
    },
    {
      "cell_type": "markdown",
      "source": [
        "\n \nOutra alternativa seria 'escapar', ou seja, indicar com a barra invertida que as aspas que a sucedem devem ser interpretadas como texto (e não como fechamento de conteúdo)."
      ],
      "metadata": {
      }
    },
    {
      "cell_type": "code",
      "source": [
        "frase2 = 'Hoje comecei a ler \\'Buracos\\''"
      ],
      "execution_count": null,
      "outputs": [],
      "metadata": {
        "id": "fLWTzgjTug_X"
      }
    },
    {
      "cell_type": "markdown",
      "source": [
        "\n",
        "## **2. `STRINGS` E LISTAS:**\n",
        "`Strings` e listas são estruturas compostas por sequências de dados, cuja ordem é relevante para os processos que as envolvem. A principal distinção entre elas é o fato do conteúdo das strings ser constituído exclusivamente por texto, enquanto as listas podem ser compostas por qualquer tipo de dado\n",
        " |  |STRINGS | LISTAS |\n",
        "| --------------- |-------------------------------------------------- | --------------------------------------- |\n",
        "| CONTEÚDO | Texto | Qualquer tipo de dado |\n",
        "| MUTABILIDADE | Impossível de alterar diretamente um caracter | Podemos alterar o valor de um caracter diretamente |\n",
        "| EXEMPLO | *texto*=\"baiacu\" |*lista*=[10, 'cachorro'] |\n",
        "| ACESSO POR ÍNDICE| Possível (EX: texto[0]=\"b\" - acesso por letra) | Possível (EX: lista[0]=10) |\n"
      ], 
      "metadata": {
      }
    },
    {
      "cell_type": "markdown",
      "source": [
        "\n",
        "É importante ressaltar que as strings e as listas são elementos **mutuamente conversíveis**, ou seja, é possível converter uma string em texto, e vice-versa. Observe os exemplos a seguir:\n",
        "####**EXEMPLO 01:**\n"
      ],
      "metadata": {
      }
    },
    {
      "cell_type": "code",
      "source": [
        "frase = 'Humberto é o melhor professor'\n",
        "palavras = frase.split()\n",
        "print(palavras)\n"
      ],
      "execution_count": null,
      "outputs": [],
      "metadata": {
        "id": "fLWTzgjTug_X"
      }
    },
    {
        "cell_type": "markdown",
        "source": [
          "\n",
          "\n",
          "\nO comando **split()**, em sua forma padrão, divide a string usando como **separador** os espaços brancos. Assim, a string 'frase' se torna uma lista cujos elementos são as palavras.\n",
          "####**EXEMPLO 02:**\n"
        ],
        "metadata": {
        }
    },
    {
      "cell_type": "code",
      "source": [
        "lista = ['Python', 'é', 'legal']\n",
        "frase = ' '.join(lista)\n",
        "print(frase)"
      ],
      "execution_count": null,
      "outputs": [],
      "metadata": {
        "id": "fLWTzgjTug_X"
      }
    },
    {
        "cell_type": "markdown",
        "source": [
          "\n",
          "\n",
          "\nO comando **join()** une os elementos da lista (todos na forma de texto), deixando entre eles um espaço em branco, o **separador**\n"
        ],
        "metadata": {
        }
    },
    {
      "cell_type": "markdown",
      "source": [
        "\n",
        "## **3. ITERAÇÃO EM `STRINGS`:**\n",
        "\n**Iteração** é um processo que permite acessar cada caractere de uma string de maneira **individual**. Geralmente, a iteração utiliza o loop `for` e, após cada uma de suas repetições, acessa-se o caracter de índice posterior ao que foi acessado na repetição atual. A iteração pode ser realizadade duas maneiras diferentes: \n ####**EXEMPLO 01:**\n"
      ],
      "metadata": {
      }
    },
    {
      "cell_type": "code",
      "source": [
        "exemplo01='O Humberto é legal'\nfor i in range(len(exemplo01)):\n  print(exemplo01[i])"
      ],
      "execution_count": null,
      "outputs": [],
      "metadata": {
        "id": "fLWTzgjTug_X"
      }
    },
    {
      "cell_type": "markdown",
      "source": [
        "\n\n",
        "\nNesse exemplo, usamos o laço for junto com a função range(len(exemplo01)). Isso significa que o loop vai percorrer todos os índices da string exemplo01, um por um.\nA cada repetição do for, acessamos um caractere da string usando seu índice: exemplo01[i]. Como i começa em 0 e vai até o último índice da string, conseguimos ver ou trabalhar com cada letra individualmente, na ordem em que aparecem.\n####**EXEMPLO 02:**"
      ],
      "metadata": {
      }
    },
    {
      "cell_type": "code",
      "source": [
        "exemplo02='O Humberto é legal'\nfor elemento in exemplo02:\n  print(elemento)"
      ],
      "execution_count": null,
      "outputs": [],
      "metadata": {
        "id": "fLWTzgjTug_X"
      }
    },
    {
      "cell_type": "markdown",
      "source": [
        "\n\n",
        "\nNesse segundo exemplo, usamos o laço for para acessar diretamente cada elemento da lista exemplo02. Isso quer dizer que, a cada volta do laço, 'elemento' assume o valor da próxima letra da string — sem precisar usar índices manualmente. É uma forma mais simples e legível de percorrer todos os caracteres de uma string."
      ],
      "metadata": {
      }
    },
    {
      "cell_type": "markdown",
      "source": [
        "\n",
        "## **4. USANDO OPERADORES COM `STRINGS`:**\n",
        "Diferentemente de valores numéricos (int e float), as strings, mesmo que possuam números em seu conteúdo, não podem ser utilizadas em cálculos. Entretanto, dois símbolos aritméticos: + e * podem manipular as strings, e desempenham, respectivamente, as funções de **concatenação** e **repetição**.",
        "\n",
        "#### **  - CONCATENAÇÃO:** é a união de duas ou mais strings em uma única string, cujo conteúdo é composto pelo texto das strings concatenadas, na ordem em que foram concatenadas, em Python é efetuada com o símbolo +\n #### **EXEMPLO:**"
      ],
      "metadata": {
      }
    },
    {
      "cell_type": "code",
      "source": [
        "texto01 = 'Etec Rosa Perrone'\ntexto02 = 'é a melhor escola de Itatiba'\n  print(texto01+' '+texto02)"
      ],
      "execution_count": null,
      "outputs": [],
      "metadata": {
        "id": "fLWTzgjTug_X"
      }
    }
  ]
}

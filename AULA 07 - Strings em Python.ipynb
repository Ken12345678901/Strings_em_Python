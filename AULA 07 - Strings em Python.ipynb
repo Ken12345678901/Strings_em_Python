{
  "nbformat": 4,
  "nbformat_minor": 0,
  "metadata": {
    "colab": {
      "provenance": [],
      "include_colab_link":true
    },
    "kernelspec": {
      "name": "python3",
      "display_name": "Python 3"
    },
    "language_info":{
      "name":"python"
    }
  },
  "cells":[
      {
        "cell_type": "markdown",
        "source": [
          "# STRINGS EM PYTHON\n",
          "###### Thiago Bruno Magnani, Pietro Cardoso de Freitas, Ken Watanabe e Emilly de Jesus Cavalcante\n",
          "---"
        ],
        "metadata": {
          "id": "fLWTzgjTug_X"
        }
      },
      {
        "cell_type": "markdown",
        "source": [
          "## _TÓPICOS DA AULA:_\n",
          "- [ ] DEFINIÇÃO DE STRINGS\n",
          "- [ ] STRINGS E LISTAS\n",
          "- [ ] PERCORRENDO CARACTERES COM FOR\n",
          "- [ ] USANDO OPERADORES COM STRINGS\n",
          "- [ ] EXPLORANDO FUNÇÕES\n",
          "- [ ] SLICING EM STRINGS\n"
        ],
        "metadata": {
          "id": "fLWTzgjTug_X"
        }
      },
      {
        "cell_type": "markdown",
        "source": [
          "## O QUE SÃO STRINGS:\n",
          "##### String é um tipo de dado que contém uma série de caracteres alfanuméricos, ou seja, pode conter letras, números e símbolos\n",
          "##### EXEMPLO:\n"
        ],
        
        "metadata": {
        }
      },
      {
        "cell_type": "code",
        "source": [
          "nome = 1"
        ],
        "execution_count": null,
        "outputs": [],
        "metadata": {
          "id": "fLWTzgjTug_X"
        }
      }
  ]
}

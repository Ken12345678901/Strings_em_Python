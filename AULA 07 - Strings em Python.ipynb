{
  "nbformat": 4,
  "nb_format_minor": 0,
  "metadata": {
    "colab": {
      "provenance": [],
      "include_colab_link":true
    },
    "kernelspec": {
      "name": "python3",
      "display_name": "Python 3"
    },
    "language_info":{
      "name":"python"
    }
  },
  "cells":{
      "cell_type": "markdown",
      "source": [
        "# STRINGS EM PYTHON",
        "*Thiago Bruno Magnani, Pietro Cardoso de Freitas, Ken Watanabe e Emilly de Jesus Cavalcante*",
        *---*
      ]
  }
}

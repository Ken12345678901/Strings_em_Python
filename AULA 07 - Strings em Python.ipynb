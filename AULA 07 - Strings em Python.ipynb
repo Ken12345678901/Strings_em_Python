{
  "nbformat": 4,
  "nbformat_minor": 0,
  "metadata": {
    "colab": {
      "provenance": [],
      "include_colab_link":true
    },
    "kernelspec": {
      "name": "python3",
      "display_name": "Python 3"
    },
    "language_info":{
      "name":"python"
    }
  },
  "cells":[
      {
        "cell_type": "markdown",
        "source": [
          "<h1> STRINGS EM PYTHON </h1>",
          "\n",
          "#####Thiago Bruno Magnani, Pietro Cardoso de Freitas, Ken Watanabe e Emilly de Jesus Cavalcante\n",
          "\n",
          "---",
          "\n",
          "###TÓPICOS DA AULA: \n",
          "#####1. O QUE SÃO STRINGS?\n",
          "#####1. STRINGS E LISTAS: \n"
        ],
        "metadata": {
          "id": "fLWTzgjTug_X"
        }
      }
  ]
}

{
  "nbformat": 4,
  "nbformat_minor": 0,
  "metadata": {
    "colab": {
      "provenance": [],
      "include_colab_link":true
    },
    "kernelspec": {
      "name": "python3",
      "display_name": "Python 3"
    },
    "language_info":{
      "name":"python"
    }
  },
  "cells":[
      {
        "cell_type": "markdown",
        "source": [
          "# STRINGS EM PYTHON\n",
          "Thiago Bruno Magnani, Pietro Cardoso de Freitas, Ken Watanabe e Emilly de Jesus Cavalcante\n",
          "---"
        ],
        "metadata": {
          "id": "fLWTzgjTug_X"
        }
      },
      {
        "cell_type": "markdown",
        "source": [
          "## _TÓPICOS DA AULA:_",
          "[O QUE SÃO STRINGS?](#o-que-sao-strings)\n",
          "##### 2. STRINGS E LISTAS\n",
          "##### 3. PERCORRENDO CARACTERES COM FOR\n",
          "##### 4. USANDO OPERADORES COM STRINGS\n",
          "##### 5. EXPLORANDO FUNÇÕES\n",
          "##### 6. SLICING EM STRINGS\n"
        ],
        "metadata": {
          "id": "fLWTzgjTug_X"
        }
      },
      {
        "cell_type": "markdown",
        "source": [
          "## _O QUE SÃO STRINGS:_\n",
          "##### String é um tipo de dado que contém uma série de caracteres alfanuméricos, ou seja, pode conter letras, números e símbolos\n",
          "##### EXEMPLO:\n"
        ],
        
        "metadata": {
          "id": "fLWTzgjTug_X"
        }
      },
      {
        "cell_type": "code",
        "source": [
          "nome = 1"
        ],
        "execution_count": null,
        "outputs": [],
        "metadata": {
          "id": "fLWTzgjTug_X"
        }
      }
  ]
}

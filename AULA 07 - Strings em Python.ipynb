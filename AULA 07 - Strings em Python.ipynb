{
  "nbformat": 4,
  "nbformat_minor": 0,
  "metadata": {
    "colab": {
      "provenance": [],
      "include_colab_link":true
    },
    "kernelspec": {
      "name": "python3",
      "display_name": "Python 3"
    },
    "language_info":{
      "name":"python"
    }
  },
  "cells":[
      {
        "cell_type": "markdown",
        "source": [
          "<b><h1 id='titulo'> STRINGS EM PYTHON </h1></b>",
          "Thiago Bruno Magnani, Pietro Cardoso de Freitas, Ken Watanabe e Emilly de Jesus Cavalcante",
          "<hr>"
        ],
        "metadata": {
          "id": "fLWTzgjTug_X"
        }
      },
      {
        "cell_type": "markdown",
        "source": [
          "<b><h2 id='titulo'> TÓPICOS DA AULA: </h2></b>",
          "<ol>",
          "<li><a href='#definicao'>O QUE SÃO STRINGS?</a></li>",
          "<li><a href='#listas'>STRINGS E LISTAS</a></li>",
          "<li><a href='#for'>PERCORRENDO CARACTERES COM FOR</a></li>",
          "<li><a href='#operadores'>USANDO OPERADORES COM STRINGS</a></li>",
          "<li><a href='#funcoes'>EXPLORANDO FUNÇÕES</a></li>",
          "<li><a href='#slicing'>SLICING EM STRINGS</a></li>",
          "</ol>"
        ],
        "metadata": {
          "id": "fLWTzgjTug_X"
        }
      },
      {
        "cell_type": "markdown",
        "source": [
          "<b><h2 id='definicao'> O QUE SÃO STRINGS: </h2></b>",
          "<h5>String é um tipo de dado que contém uma série de caracteres alfanuméricos, ou seja, pode conter letras, números e símbolos</h5>",
          "<h5>EXEMPLO:</h5>"
        ],
        
        "metadata": {
          "id": "fLWTzgjTug_X"
        }
      },
      {
        "cell_type": "code",
        "source": [
          "nome = 1"
        ],
        "execution_count": null,
        "outputs": [],
        "metadata": {
          "id": "fLWTzgjTug_X"
        }
      }
  ]
}

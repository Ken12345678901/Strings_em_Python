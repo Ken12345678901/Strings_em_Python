{
  "nbformat": 4,
  "nbformat_minor": 0,
  "metadata": {
    "colab": {
      "provenance": [],
      "include_colab_link":true
    },
    "kernelspec": {
      "name": "python3",
      "display_name": "Python 3"
    },
    "language_info":{
      "name":"python"
    }
  },
  "cells":[
      {
        "cell_type": "markdown",
        "source": [
          "<h1 id='titulo'> STRINGS EM PYTHON </h1>",
          "<h5>Thiago Bruno Magnani, Pietro Cardoso de Freitas, Ken Watanabe e Emilly de Jesus Cavalcante</h5>",
          "<br>",
          "<hr>",
          "<br>",
          "<h3>TÓPICOS DA AULA: </h3>",
          "<ol>",
          "<li><a href='definicao'>O QUE SÃO STRINGS?</a></li>",
          "<li><a href='listas'>STRINGS E LISTAS</a></li>",
          "<li><a href='for'>PERCORRENDO CARACTERES COM FOR</a></li>",
          "<li><a href='operadores'>USANDO OPERADORES COM STRINGS</a></li>",
          "<li><a href='funcoes'>EXPLORANDO FUNÇÕES</a></li>",
          "<li><a href='slicing'>SLICING EM STRINGS</a></li>",
          "</ol>"
        ],
        "metadata": {
          "id": "fLWTzgjTug_X"
        }
      }
  ]
}

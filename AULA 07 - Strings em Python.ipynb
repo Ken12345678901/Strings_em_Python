{
  "nbformat": 4,
  "nbformat_minor": 0,
  "metadata": {
    "colab": {
      "provenance": [],
      "include_colab_link":true
    },
    "kernelspec": {
      "name": "python3",
      "display_name": "Python 3"
    },
    "language_info":{
      "name":"python"
    }
  },
  "cells":[
      {
        "cell_type": "markdown",
        "source": [
          "# STRINGS EM PYTHON",
          "Thiago Bruno Magnani, Pietro Cardoso de Freitas, Ken Watanabe e Emilly de Jesus Cavalcante",
          "---"
        ],
        "metadata": {
          "id": "fLWTzgjTug_X"
        }
      },
      {
        "cell_type": "markdown",
        "source": [
          "## _TÓPICOS DA AULA:_",
          "[O QUE SÃO STRINGS?](#o-que-sao-strings)",
          "##### 2. STRINGS E LISTAS",
          "##### 3. PERCORRENDO CARACTERES COM FOR",
          "##### 4. USANDO OPERADORES COM STRINGS",
          "##### 5. EXPLORANDO FUNÇÕES",
          "##### 6. SLICING EM STRINGS",
        ],
        "metadata": {
          "id": "fLWTzgjTug_X"
        }
      },
      {
        "cell_type": "markdown",
        "source": [
          "## _O QUE SÃO STRINGS:_",
          "##### String é um tipo de dado que contém uma série de caracteres alfanuméricos, ou seja, pode conter letras, números e símbolos",
          "##### EXEMPLO:"
        ],
        
        "metadata": {
          "id": "fLWTzgjTug_X"
        }
      },
      {
        "cell_type": "code",
        "source": [
          "nome = 1"
        ],
        "execution_count": null,
        "outputs": [],
        "metadata": {
          "id": "fLWTzgjTug_X"
        }
      }
  ]
}

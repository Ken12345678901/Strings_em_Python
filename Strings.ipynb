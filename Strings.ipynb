{
  "nbformat": 4,
  "nbformat_minor": 0,
  "metadata": {
    "colab": {
      "provenance": [],
      "include_colab_link": true
    },
    "kernelspec": {
      "name": "python3",
      "display_name": "Python 3"
    },
    "language_info": {
      "name": "python"
    }
  },
}
"cells":[
  {
    "cell_type": "markdown",
    "source": [
      "# STRINGS EM PYTHON",
      "\n",
      "**Thiago Bruno Magnani, Pietro de Freitas Cardoso, Ken Watanabe, Emilly de Jesus Cavalcante, Murilo Elias Pereira**",
    ]
  }
]

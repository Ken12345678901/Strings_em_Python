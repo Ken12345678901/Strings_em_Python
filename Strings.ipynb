{
  "nbformat": 4,
  "nbformat_minor": 0,
  "metadata": {
    "colab": {
      "provenance": [],
      "include_colab_link": true
    },
    "kernelspec": {
      "name": "python3",
      "display_name": "Python 3"
    },
    "language_info": {
      "name": "python"
    }
  },
  "cells": [
    {
      "cell_type": "markdown",
      "source": [
        "# Strings em python\n",
        "*Thiago Magnani, Pietro Cardoso, Ken Watanabe, Emily Cavalcante, Murilo Elias 2°D*\n",
        "_\n\n",
        "# O que é uma string\n",
        "String é um tipo de dado que tem como valor uma sequência de caracteres alfanuméricos. Uma string é identificada pela presença de aspas duplas ou simples, marcando o início e o fim de seu conteúdo."
      ],
      "metadata": {
        "id": "fLWTzgjTug_X"
      }
    }
  ]
}
